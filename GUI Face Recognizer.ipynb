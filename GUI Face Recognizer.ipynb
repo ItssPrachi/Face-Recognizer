{
 "cells": [
  {
   "cell_type": "code",
   "execution_count": 1,
   "id": "2a2700dc-ab36-41f0-8ffe-315f921612b5",
   "metadata": {},
   "outputs": [],
   "source": [
    "import tkinter as tk\n",
    "from tkinter import messagebox\n",
    "\n",
    "# Create the main window\n",
    "window = tk.Tk()\n",
    "window.title(\"Face Recognition System\")\n",
    "\n",
    "# Create and place the labels and entry fields\n",
    "l1 = tk.Label(window, text=\"Name\", font=(\"Algerian\", 20))\n",
    "l1.grid(column=0, row=0, padx=10, pady=10)\n",
    "t1 = tk.Entry(window, width=50, bd=5)\n",
    "t1.grid(column=1, row=0, padx=10, pady=10)\n",
    "\n",
    "l2 = tk.Label(window, text=\"Age\", font=(\"Algerian\", 20))\n",
    "l2.grid(column=0, row=1, padx=10, pady=10)\n",
    "t2 = tk.Entry(window, width=50, bd=5)\n",
    "t2.grid(column=1, row=1, padx=10, pady=10)\n",
    "\n",
    "l3 = tk.Label(window, text=\"Address\", font=(\"Algerian\", 20))\n",
    "l3.grid(column=0, row=2, padx=10, pady=10)\n",
    "t3 = tk.Entry(window, width=50, bd=5)\n",
    "t3.grid(column=1, row=2, padx=10, pady=10)\n",
    "\n",
    "# Create and place the buttons\n",
    "b1 = tk.Button(window, text=\"Training\", font=(\"Algerian\", 20), bg=\"orange\", fg=\"red\")\n",
    "b1.grid(column=0, row=4, padx=10, pady=10)\n",
    "\n",
    "b2 = tk.Button(window, text=\"Detect the Faces\", font=(\"Algerian\", 20), bg=\"green\", fg=\"orange\")\n",
    "b2.grid(column=1, row=4, padx=10, pady=10)\n",
    "\n",
    "b3 = tk.Button(window, text=\"Generate Dataset\", font=(\"Algerian\", 20), bg=\"pink\", fg=\"black\")\n",
    "b3.grid(column=2, row=4, padx=10, pady=10)\n",
    "\n",
    "# Set the window size\n",
    "window.geometry(\"800x200\")\n",
    "\n",
    "# Run the main loop\n",
    "window.mainloop()\n"
   ]
  },
  {
   "cell_type": "code",
   "execution_count": null,
   "id": "f3bad716-1b85-4e19-93b9-aa205378f656",
   "metadata": {},
   "outputs": [],
   "source": []
  }
 ],
 "metadata": {
  "kernelspec": {
   "display_name": "Python 3 (ipykernel)",
   "language": "python",
   "name": "python3"
  },
  "language_info": {
   "codemirror_mode": {
    "name": "ipython",
    "version": 3
   },
   "file_extension": ".py",
   "mimetype": "text/x-python",
   "name": "python",
   "nbconvert_exporter": "python",
   "pygments_lexer": "ipython3",
   "version": "3.12.4"
  }
 },
 "nbformat": 4,
 "nbformat_minor": 5
}
